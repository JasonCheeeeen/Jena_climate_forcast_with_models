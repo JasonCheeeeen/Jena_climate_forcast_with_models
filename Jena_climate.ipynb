{
 "cells": [
  {
   "cell_type": "code",
   "execution_count": 1,
   "metadata": {
    "id": "lMWLFva9WIaG"
   },
   "outputs": [],
   "source": [
    "import os\n",
    "import datetime\n",
    "\n",
    "import IPython\n",
    "import IPython.display\n",
    "import matplotlib as mpl\n",
    "import matplotlib.pyplot as plt\n",
    "import numpy as np\n",
    "import pandas as pd\n",
    "import tensorflow as tf\n",
    "\n",
    "from keras import Input\n",
    "from keras.models import Sequential\n",
    "from keras.layers import Flatten\n",
    "from keras.layers import Dense, LSTM, GRU\n",
    "from keras.layers import Conv1D\n",
    "from keras.layers import MaxPooling1D \n",
    "\n",
    "from sklearn.preprocessing import MinMaxScaler\n",
    "from sklearn.metrics import mean_absolute_error\n",
    "from sklearn.metrics import mean_squared_error\n",
    "from sklearn.metrics import r2_score\n",
    "\n",
    "mpl.rcParams['figure.figsize'] = (8, 6)\n",
    "mpl.rcParams['axes.grid'] = False"
   ]
  },
  {
   "cell_type": "code",
   "execution_count": 2,
   "metadata": {
    "id": "b0wRRC1MWI_O"
   },
   "outputs": [],
   "source": [
    "zip_path = tf.keras.utils.get_file(\n",
    "    origin='https://storage.googleapis.com/tensorflow/tf-keras-datasets/jena_climate_2009_2016.csv.zip',\n",
    "    fname='jena_climate_2009_2016.csv.zip',\n",
    "    extract=True)\n",
    "csv_path, _ = os.path.splitext(zip_path)"
   ]
  },
  {
   "cell_type": "code",
   "execution_count": 3,
   "metadata": {
    "id": "oS_-CU_-WJBi"
   },
   "outputs": [],
   "source": [
    "df = pd.read_csv(csv_path)\n",
    "# slice [start:stop:step], starting from index 5 take every 6th record.\n",
    "df = df[5::6]\n",
    "\n",
    "date_time = pd.to_datetime(df.pop('Date Time'), format='%d.%m.%Y %H:%M:%S')"
   ]
  },
  {
   "cell_type": "code",
   "execution_count": 5,
   "metadata": {
    "colab": {
     "base_uri": "https://localhost:8080/",
     "height": 419
    },
    "id": "ydWH0hKfWJD0",
    "outputId": "d3c3e6b8-a531-4ee0-8cb8-13f6d11685cc"
   },
   "outputs": [
    {
     "data": {
      "text/html": [
       "<div>\n",
       "<style scoped>\n",
       "    .dataframe tbody tr th:only-of-type {\n",
       "        vertical-align: middle;\n",
       "    }\n",
       "\n",
       "    .dataframe tbody tr th {\n",
       "        vertical-align: top;\n",
       "    }\n",
       "\n",
       "    .dataframe thead th {\n",
       "        text-align: right;\n",
       "    }\n",
       "</style>\n",
       "<table border=\"1\" class=\"dataframe\">\n",
       "  <thead>\n",
       "    <tr style=\"text-align: right;\">\n",
       "      <th></th>\n",
       "      <th>p (mbar)</th>\n",
       "      <th>T (degC)</th>\n",
       "      <th>Tpot (K)</th>\n",
       "      <th>Tdew (degC)</th>\n",
       "      <th>rh (%)</th>\n",
       "      <th>VPmax (mbar)</th>\n",
       "      <th>VPact (mbar)</th>\n",
       "      <th>VPdef (mbar)</th>\n",
       "      <th>sh (g/kg)</th>\n",
       "      <th>H2OC (mmol/mol)</th>\n",
       "      <th>rho (g/m**3)</th>\n",
       "      <th>wv (m/s)</th>\n",
       "      <th>max. wv (m/s)</th>\n",
       "      <th>wd (deg)</th>\n",
       "    </tr>\n",
       "  </thead>\n",
       "  <tbody>\n",
       "    <tr>\n",
       "      <th>5</th>\n",
       "      <td>996.50</td>\n",
       "      <td>-8.05</td>\n",
       "      <td>265.38</td>\n",
       "      <td>-8.78</td>\n",
       "      <td>94.40</td>\n",
       "      <td>3.33</td>\n",
       "      <td>3.14</td>\n",
       "      <td>0.19</td>\n",
       "      <td>1.96</td>\n",
       "      <td>3.15</td>\n",
       "      <td>1307.86</td>\n",
       "      <td>0.21</td>\n",
       "      <td>0.63</td>\n",
       "      <td>192.7</td>\n",
       "    </tr>\n",
       "    <tr>\n",
       "      <th>11</th>\n",
       "      <td>996.62</td>\n",
       "      <td>-8.88</td>\n",
       "      <td>264.54</td>\n",
       "      <td>-9.77</td>\n",
       "      <td>93.20</td>\n",
       "      <td>3.12</td>\n",
       "      <td>2.90</td>\n",
       "      <td>0.21</td>\n",
       "      <td>1.81</td>\n",
       "      <td>2.91</td>\n",
       "      <td>1312.25</td>\n",
       "      <td>0.25</td>\n",
       "      <td>0.63</td>\n",
       "      <td>190.3</td>\n",
       "    </tr>\n",
       "    <tr>\n",
       "      <th>17</th>\n",
       "      <td>996.84</td>\n",
       "      <td>-8.81</td>\n",
       "      <td>264.59</td>\n",
       "      <td>-9.66</td>\n",
       "      <td>93.50</td>\n",
       "      <td>3.13</td>\n",
       "      <td>2.93</td>\n",
       "      <td>0.20</td>\n",
       "      <td>1.83</td>\n",
       "      <td>2.94</td>\n",
       "      <td>1312.18</td>\n",
       "      <td>0.18</td>\n",
       "      <td>0.63</td>\n",
       "      <td>167.2</td>\n",
       "    </tr>\n",
       "    <tr>\n",
       "      <th>23</th>\n",
       "      <td>996.99</td>\n",
       "      <td>-9.05</td>\n",
       "      <td>264.34</td>\n",
       "      <td>-10.02</td>\n",
       "      <td>92.60</td>\n",
       "      <td>3.07</td>\n",
       "      <td>2.85</td>\n",
       "      <td>0.23</td>\n",
       "      <td>1.78</td>\n",
       "      <td>2.85</td>\n",
       "      <td>1313.61</td>\n",
       "      <td>0.10</td>\n",
       "      <td>0.38</td>\n",
       "      <td>240.0</td>\n",
       "    </tr>\n",
       "    <tr>\n",
       "      <th>29</th>\n",
       "      <td>997.46</td>\n",
       "      <td>-9.63</td>\n",
       "      <td>263.72</td>\n",
       "      <td>-10.65</td>\n",
       "      <td>92.20</td>\n",
       "      <td>2.94</td>\n",
       "      <td>2.71</td>\n",
       "      <td>0.23</td>\n",
       "      <td>1.69</td>\n",
       "      <td>2.71</td>\n",
       "      <td>1317.19</td>\n",
       "      <td>0.40</td>\n",
       "      <td>0.88</td>\n",
       "      <td>157.0</td>\n",
       "    </tr>\n",
       "    <tr>\n",
       "      <th>...</th>\n",
       "      <td>...</td>\n",
       "      <td>...</td>\n",
       "      <td>...</td>\n",
       "      <td>...</td>\n",
       "      <td>...</td>\n",
       "      <td>...</td>\n",
       "      <td>...</td>\n",
       "      <td>...</td>\n",
       "      <td>...</td>\n",
       "      <td>...</td>\n",
       "      <td>...</td>\n",
       "      <td>...</td>\n",
       "      <td>...</td>\n",
       "      <td>...</td>\n",
       "    </tr>\n",
       "    <tr>\n",
       "      <th>420521</th>\n",
       "      <td>1002.18</td>\n",
       "      <td>-0.98</td>\n",
       "      <td>272.01</td>\n",
       "      <td>-5.36</td>\n",
       "      <td>72.00</td>\n",
       "      <td>5.69</td>\n",
       "      <td>4.09</td>\n",
       "      <td>1.59</td>\n",
       "      <td>2.54</td>\n",
       "      <td>4.08</td>\n",
       "      <td>1280.70</td>\n",
       "      <td>0.87</td>\n",
       "      <td>1.36</td>\n",
       "      <td>190.6</td>\n",
       "    </tr>\n",
       "    <tr>\n",
       "      <th>420527</th>\n",
       "      <td>1001.40</td>\n",
       "      <td>-1.40</td>\n",
       "      <td>271.66</td>\n",
       "      <td>-6.84</td>\n",
       "      <td>66.29</td>\n",
       "      <td>5.51</td>\n",
       "      <td>3.65</td>\n",
       "      <td>1.86</td>\n",
       "      <td>2.27</td>\n",
       "      <td>3.65</td>\n",
       "      <td>1281.87</td>\n",
       "      <td>1.02</td>\n",
       "      <td>1.92</td>\n",
       "      <td>225.4</td>\n",
       "    </tr>\n",
       "    <tr>\n",
       "      <th>420533</th>\n",
       "      <td>1001.19</td>\n",
       "      <td>-2.75</td>\n",
       "      <td>270.32</td>\n",
       "      <td>-6.90</td>\n",
       "      <td>72.90</td>\n",
       "      <td>4.99</td>\n",
       "      <td>3.64</td>\n",
       "      <td>1.35</td>\n",
       "      <td>2.26</td>\n",
       "      <td>3.63</td>\n",
       "      <td>1288.02</td>\n",
       "      <td>0.71</td>\n",
       "      <td>1.56</td>\n",
       "      <td>158.7</td>\n",
       "    </tr>\n",
       "    <tr>\n",
       "      <th>420539</th>\n",
       "      <td>1000.65</td>\n",
       "      <td>-2.89</td>\n",
       "      <td>270.22</td>\n",
       "      <td>-7.15</td>\n",
       "      <td>72.30</td>\n",
       "      <td>4.93</td>\n",
       "      <td>3.57</td>\n",
       "      <td>1.37</td>\n",
       "      <td>2.22</td>\n",
       "      <td>3.57</td>\n",
       "      <td>1288.03</td>\n",
       "      <td>0.35</td>\n",
       "      <td>0.68</td>\n",
       "      <td>216.7</td>\n",
       "    </tr>\n",
       "    <tr>\n",
       "      <th>420545</th>\n",
       "      <td>1000.11</td>\n",
       "      <td>-3.93</td>\n",
       "      <td>269.23</td>\n",
       "      <td>-8.09</td>\n",
       "      <td>72.60</td>\n",
       "      <td>4.56</td>\n",
       "      <td>3.31</td>\n",
       "      <td>1.25</td>\n",
       "      <td>2.06</td>\n",
       "      <td>3.31</td>\n",
       "      <td>1292.41</td>\n",
       "      <td>0.56</td>\n",
       "      <td>1.00</td>\n",
       "      <td>202.6</td>\n",
       "    </tr>\n",
       "  </tbody>\n",
       "</table>\n",
       "<p>70091 rows × 14 columns</p>\n",
       "</div>"
      ],
      "text/plain": [
       "        p (mbar)  T (degC)  Tpot (K)  ...  wv (m/s)  max. wv (m/s)  wd (deg)\n",
       "5         996.50     -8.05    265.38  ...      0.21           0.63     192.7\n",
       "11        996.62     -8.88    264.54  ...      0.25           0.63     190.3\n",
       "17        996.84     -8.81    264.59  ...      0.18           0.63     167.2\n",
       "23        996.99     -9.05    264.34  ...      0.10           0.38     240.0\n",
       "29        997.46     -9.63    263.72  ...      0.40           0.88     157.0\n",
       "...          ...       ...       ...  ...       ...            ...       ...\n",
       "420521   1002.18     -0.98    272.01  ...      0.87           1.36     190.6\n",
       "420527   1001.40     -1.40    271.66  ...      1.02           1.92     225.4\n",
       "420533   1001.19     -2.75    270.32  ...      0.71           1.56     158.7\n",
       "420539   1000.65     -2.89    270.22  ...      0.35           0.68     216.7\n",
       "420545   1000.11     -3.93    269.23  ...      0.56           1.00     202.6\n",
       "\n",
       "[70091 rows x 14 columns]"
      ]
     },
     "execution_count": 5,
     "metadata": {
      "tags": []
     },
     "output_type": "execute_result"
    }
   ],
   "source": [
    "df"
   ]
  },
  {
   "cell_type": "code",
   "execution_count": 6,
   "metadata": {
    "id": "3qVk45uXWJIX"
   },
   "outputs": [],
   "source": [
    "# take three day of datas to predict one day\n",
    "timestep = 72\n",
    "# size of training data - 500 days (12000 hours)\n",
    "training_num = 12000\n",
    "\n",
    "epoch = 10\n",
    "batch_size = 200"
   ]
  },
  {
   "cell_type": "code",
   "execution_count": 7,
   "metadata": {
    "colab": {
     "base_uri": "https://localhost:8080/"
    },
    "id": "WVcWIHxFWJM5",
    "outputId": "e7c15458-bbad-4571-bf16-d0a7bef1b8b8"
   },
   "outputs": [
    {
     "data": {
      "text/plain": [
       "(70091, 1)"
      ]
     },
     "execution_count": 7,
     "metadata": {
      "tags": []
     },
     "output_type": "execute_result"
    }
   ],
   "source": [
    "dt = df['T (degC)']\n",
    "dt = np.array(dt).reshape(-1,1)\n",
    "dt.shape"
   ]
  },
  {
   "cell_type": "markdown",
   "metadata": {
    "id": "78Tb9hAC6zEC"
   },
   "source": [
    "# <font color = purple>Normalize the data to (0, 1)</font>"
   ]
  },
  {
   "cell_type": "code",
   "execution_count": 8,
   "metadata": {
    "colab": {
     "base_uri": "https://localhost:8080/"
    },
    "id": "dD0c9Lj1hNxV",
    "outputId": "b44dd060-5552-4ad8-8b82-b34121ed8d2c"
   },
   "outputs": [
    {
     "data": {
      "text/plain": [
       "array([[0.24500333],\n",
       "       [0.23117921],\n",
       "       [0.2323451 ],\n",
       "       ...,\n",
       "       [0.33327781],\n",
       "       [0.33094604],\n",
       "       [0.31362425]])"
      ]
     },
     "execution_count": 8,
     "metadata": {
      "tags": []
     },
     "output_type": "execute_result"
    }
   ],
   "source": [
    "sc = MinMaxScaler(feature_range = (0, 1))\n",
    "dt_nor = sc.fit_transform(dt)\n",
    "dt_nor"
   ]
  },
  {
   "cell_type": "markdown",
   "metadata": {
    "id": "_gTGzxOL9M6C"
   },
   "source": [
    "# <font color = purple>Find the best width</font>"
   ]
  },
  {
   "cell_type": "code",
   "execution_count": 9,
   "metadata": {
    "id": "zdLlPJOk9RX6"
   },
   "outputs": [],
   "source": [
    "# take three day of datas to predict one day\n",
    "timestep\n",
    "# size of training data - 500 days\n",
    "training_num = 12000\n",
    "\n",
    "epoch = 10\n",
    "batch_size = 200\n",
    "\n",
    "def width(timestep,model_kind):\n",
    "  xTrainSet = dt_nor[:training_num]\n",
    "  yTrainSet = dt_nor[1:training_num+1]\n",
    "\n",
    "  xTrain = []\n",
    "  for i in range(timestep, training_num):\n",
    "    xTrain.append(xTrainSet[i-timestep : i])\n",
    "  xTrain = np.array(xTrain)\n",
    "  xTrain = np.reshape(xTrain, (xTrain.shape[0], xTrain.shape[1], 1))\n",
    "\n",
    "  yTrain = []\n",
    "  for i in range(timestep, training_num):\n",
    "    yTrain.append(yTrainSet[i])\n",
    "  yTrain = np.array(yTrain)\n",
    "\n",
    "  if model_kind == 'model_rnn':\n",
    "    model = Sequential()\n",
    "    model.add(LSTM(128, return_sequences = True, input_shape = (xTrain.shape[1],1)))\n",
    "    model.add(GRU(64))\n",
    "    model.add(Dense(1))\n",
    "\n",
    "  if model_kind == 'model_dense':\n",
    "    model = Sequential()\n",
    "    model.add(Input(shape = (xTrain.shape[1])))\n",
    "    model.add(Flatten())\n",
    "    model.add(Dense(128, activation='relu'))\n",
    "    model.add(Dense(64, activation='relu'))\n",
    "    model.add(Dense(1))\n",
    "\n",
    "  if model_kind == 'model_cnn':\n",
    "    conv_width = 3\n",
    "    model = Sequential()\n",
    "    model.add(Conv1D(64, kernel_size=(conv_width), input_shape = (xTrain.shape[1],1), activation='relu'))\n",
    "    # model.add(MaxPooling1D(pool_size=(8)))\n",
    "    model.add(Conv1D(32, kernel_size=(conv_width), activation='relu'))\n",
    "    model.add(Flatten())\n",
    "    model.add(Dense(32, activation='relu'))\n",
    "    model.add(Dense(1))\n",
    "  \n",
    "  model.compile(optimizer = 'adam',\n",
    "         loss = 'mean_squared_error',\n",
    "         metrics = [tf.metrics.MeanAbsoluteError()])\n",
    "  model.fit(x = xTrain, y = yTrain, epochs = epoch, batch_size = batch_size, verbose=0)\n",
    "\n",
    "  xTestSet = dt_nor[training_num : 40800-2]\n",
    "  xTestSet = np.array(xTestSet)\n",
    "\n",
    "  yTestSet = dt_nor[training_num+1 : 40800-1]\n",
    "  yTestSet = np.array(yTestSet)\n",
    "\n",
    "  xTest = []\n",
    "  for i in range(timestep, len(xTestSet)):\n",
    "      xTest.append(xTestSet[i-timestep : i])\n",
    "  xTest = np.array(xTest)\n",
    "\n",
    "  yTest = []\n",
    "  for i in range(timestep, len(xTestSet)):\n",
    "      yTest.append(yTestSet[i])\n",
    "  yTest = np.array(yTest)\n",
    "  yTest = sc.inverse_transform(yTest)\n",
    "\n",
    "  yPredictes = model.predict(x=xTest)\n",
    "  yPredictes = sc.inverse_transform(yPredictes)\n",
    "\n",
    "  r2 = r2_score(yTest, yPredictes)\n",
    "  return r2"
   ]
  },
  {
   "cell_type": "code",
   "execution_count": 10,
   "metadata": {
    "colab": {
     "base_uri": "https://localhost:8080/"
    },
    "id": "32QZ0loO-unc",
    "outputId": "c0763375-4400-4c52-a84e-545b26e891fa"
   },
   "outputs": [
    {
     "name": "stdout",
     "output_type": "stream",
     "text": [
      "5-6-7-8-9-10-\n",
      "11-12-13-14-15-16-17-18-19-20-\n",
      "21-22-23-24-25-26-27-28-29-30-\n",
      "31-32-33-34-35-36-37-38-39-40-\n",
      "41-42-43-44-45-46-47-48-49-50-\n"
     ]
    },
    {
     "data": {
      "text/plain": [
       "42"
      ]
     },
     "execution_count": 10,
     "metadata": {
      "tags": []
     },
     "output_type": "execute_result"
    }
   ],
   "source": [
    "rnn_width_dict = {}\n",
    "for step in range(5,51):\n",
    "  rnn_width_dict[step] = width(step,'model_rnn')\n",
    "  print(step,end=\"-\")\n",
    "  if step%10 == 0:\n",
    "    print()\n",
    "rnn_width = max(rnn_width_dict,key=rnn_width_dict.get)\n",
    "rnn_width"
   ]
  },
  {
   "cell_type": "code",
   "execution_count": 11,
   "metadata": {
    "colab": {
     "base_uri": "https://localhost:8080/"
    },
    "id": "1DQuIqJoHrvP",
    "outputId": "aa229652-5cce-46c6-880f-55bb73d696f7"
   },
   "outputs": [
    {
     "name": "stdout",
     "output_type": "stream",
     "text": [
      "5-6-7-8-9-10-\n",
      "11-12-13-14-15-16-17-18-19-20-\n",
      "21-22-23-24-25-26-27-28-29-30-\n",
      "31-32-33-34-35-36-37-38-39-40-\n",
      "41-42-43-44-45-46-47-48-49-50-\n"
     ]
    },
    {
     "data": {
      "text/plain": [
       "31"
      ]
     },
     "execution_count": 11,
     "metadata": {
      "tags": []
     },
     "output_type": "execute_result"
    }
   ],
   "source": [
    "dense_width_dict = {}\n",
    "for step in range(5,51):\n",
    "  dense_width_dict[step] = width(step,'model_dense')\n",
    "  print(step,end=\"-\")\n",
    "  if step%10 == 0:\n",
    "    print()\n",
    "dense_width = max(dense_width_dict,key=dense_width_dict.get)\n",
    "dense_width"
   ]
  },
  {
   "cell_type": "code",
   "execution_count": 12,
   "metadata": {
    "colab": {
     "base_uri": "https://localhost:8080/"
    },
    "id": "X_ys9ObeHr5O",
    "outputId": "7d244c23-a772-421d-f486-eb3302fc8b00"
   },
   "outputs": [
    {
     "name": "stdout",
     "output_type": "stream",
     "text": [
      "5-6-7-8-9-10-\n",
      "11-12-13-14-15-16-17-18-19-20-\n",
      "21-22-23-24-25-26-27-28-29-30-\n",
      "31-32-33-34-35-36-37-38-39-40-\n",
      "41-42-43-44-45-46-47-48-49-50-\n"
     ]
    },
    {
     "data": {
      "text/plain": [
       "25"
      ]
     },
     "execution_count": 12,
     "metadata": {
      "tags": []
     },
     "output_type": "execute_result"
    }
   ],
   "source": [
    "cnn_width_dict = {}\n",
    "for step in range(5,51):\n",
    "  cnn_width_dict[step] = width(step,'model_cnn')\n",
    "  print(step,end=\"-\")\n",
    "  if step%10 == 0:\n",
    "    print()\n",
    "cnn_width = max(cnn_width_dict,key=cnn_width_dict.get)\n",
    "cnn_width"
   ]
  },
  {
   "cell_type": "markdown",
   "metadata": {
    "id": "Hyjbp5_Oau0G"
   },
   "source": [
    "# <font color = purple>Rnn</font>"
   ]
  },
  {
   "cell_type": "code",
   "execution_count": 13,
   "metadata": {
    "id": "MtrN2VVVFZuR"
   },
   "outputs": [],
   "source": [
    "timestep = rnn_width"
   ]
  },
  {
   "cell_type": "code",
   "execution_count": 14,
   "metadata": {
    "id": "Xd2y306oaB8U"
   },
   "outputs": [],
   "source": [
    "xTrainSet = dt_nor[:training_num]\n",
    "yTrainSet = dt_nor[1:training_num+1]"
   ]
  },
  {
   "cell_type": "code",
   "execution_count": 15,
   "metadata": {
    "colab": {
     "base_uri": "https://localhost:8080/"
    },
    "id": "iKn3ZKbKWJRZ",
    "outputId": "cfb53cf7-9e80-4443-fb03-cee1f45e3c42"
   },
   "outputs": [
    {
     "name": "stdout",
     "output_type": "stream",
     "text": [
      "(11958, 42, 1)\n",
      "(11958, 1)\n"
     ]
    }
   ],
   "source": [
    "xTrain = []\n",
    "for i in range(timestep, training_num):\n",
    "  xTrain.append(xTrainSet[i-timestep : i])\n",
    "xTrain = np.array(xTrain)\n",
    "xTrain = np.reshape(xTrain, (xTrain.shape[0], xTrain.shape[1], 1))\n",
    "print(xTrain.shape)\n",
    "\n",
    "yTrain = []\n",
    "for i in range(timestep, training_num):\n",
    "  yTrain.append(yTrainSet[i])\n",
    "yTrain = np.array(yTrain)\n",
    "print(yTrain.shape)"
   ]
  },
  {
   "cell_type": "code",
   "execution_count": 16,
   "metadata": {
    "colab": {
     "base_uri": "https://localhost:8080/"
    },
    "id": "iLCdrDaSKFoQ",
    "outputId": "f104564f-e608-4b55-904c-d252c4952dca"
   },
   "outputs": [
    {
     "name": "stdout",
     "output_type": "stream",
     "text": [
      "Model: \"sequential_138\"\n",
      "_________________________________________________________________\n",
      "Layer (type)                 Output Shape              Param #   \n",
      "=================================================================\n",
      "lstm_46 (LSTM)               (None, 42, 128)           66560     \n",
      "_________________________________________________________________\n",
      "gru_46 (GRU)                 (None, 64)                37248     \n",
      "_________________________________________________________________\n",
      "dense_276 (Dense)            (None, 1)                 65        \n",
      "=================================================================\n",
      "Total params: 103,873\n",
      "Trainable params: 103,873\n",
      "Non-trainable params: 0\n",
      "_________________________________________________________________\n"
     ]
    }
   ],
   "source": [
    "model_rnn = Sequential()\n",
    "model_rnn.add(LSTM(128, return_sequences = True, input_shape = (xTrain.shape[1],1)))\n",
    "model_rnn.add(GRU(64))\n",
    "model_rnn.add(Dense(1))\n",
    "\n",
    "model_rnn.summary()"
   ]
  },
  {
   "cell_type": "code",
   "execution_count": 17,
   "metadata": {
    "colab": {
     "base_uri": "https://localhost:8080/"
    },
    "id": "nfTQXBO8dTke",
    "outputId": "666dae66-1f50-4d3b-8464-3e7e0921fc1a"
   },
   "outputs": [
    {
     "name": "stdout",
     "output_type": "stream",
     "text": [
      "Epoch 1/10\n",
      "60/60 [==============================] - 3s 10ms/step - loss: 0.0232 - mean_absolute_error: 0.1070\n",
      "Epoch 2/10\n",
      "60/60 [==============================] - 0s 8ms/step - loss: 0.0031 - mean_absolute_error: 0.0433\n",
      "Epoch 3/10\n",
      "60/60 [==============================] - 0s 7ms/step - loss: 0.0027 - mean_absolute_error: 0.0398\n",
      "Epoch 4/10\n",
      "60/60 [==============================] - 0s 8ms/step - loss: 0.0022 - mean_absolute_error: 0.0360\n",
      "Epoch 5/10\n",
      "60/60 [==============================] - 0s 7ms/step - loss: 0.0011 - mean_absolute_error: 0.0257\n",
      "Epoch 6/10\n",
      "60/60 [==============================] - 0s 8ms/step - loss: 8.8987e-04 - mean_absolute_error: 0.0224\n",
      "Epoch 7/10\n",
      "60/60 [==============================] - 0s 7ms/step - loss: 8.7927e-04 - mean_absolute_error: 0.0224\n",
      "Epoch 8/10\n",
      "60/60 [==============================] - 0s 7ms/step - loss: 8.2940e-04 - mean_absolute_error: 0.0215\n",
      "Epoch 9/10\n",
      "60/60 [==============================] - 0s 7ms/step - loss: 8.3635e-04 - mean_absolute_error: 0.0217\n",
      "Epoch 10/10\n",
      "60/60 [==============================] - 0s 7ms/step - loss: 8.0309e-04 - mean_absolute_error: 0.0211\n"
     ]
    },
    {
     "data": {
      "text/plain": [
       "<tensorflow.python.keras.callbacks.History at 0x7f23fd1f3438>"
      ]
     },
     "execution_count": 17,
     "metadata": {
      "tags": []
     },
     "output_type": "execute_result"
    }
   ],
   "source": [
    "model_rnn.compile(optimizer = 'adam',\n",
    "         loss = 'mean_squared_error',\n",
    "         metrics = [tf.metrics.MeanAbsoluteError()])\n",
    "model_rnn.fit(x = xTrain, y = yTrain, epochs = epoch, batch_size = batch_size)"
   ]
  },
  {
   "cell_type": "markdown",
   "metadata": {
    "id": "cP8Pn4zJ7vw7"
   },
   "source": [
    "# <font color = purple>Test model's accuracy by r2_score (1200 days)</font>"
   ]
  },
  {
   "cell_type": "code",
   "execution_count": 18,
   "metadata": {
    "id": "EzxEdlTPiTE5"
   },
   "outputs": [],
   "source": [
    "xTestSet = dt_nor[training_num : 40800-2]\n",
    "xTestSet = np.array(xTestSet)\n",
    "\n",
    "yTestSet = dt_nor[training_num+1 : 40800-1]\n",
    "yTestSet = np.array(yTestSet)"
   ]
  },
  {
   "cell_type": "code",
   "execution_count": 19,
   "metadata": {
    "colab": {
     "base_uri": "https://localhost:8080/"
    },
    "id": "KQbW3X54iTIF",
    "outputId": "8a476ac7-e0a3-47ac-80cd-4ff47945eb3e"
   },
   "outputs": [
    {
     "name": "stdout",
     "output_type": "stream",
     "text": [
      "28756\n"
     ]
    },
    {
     "data": {
      "text/plain": [
       "28756"
      ]
     },
     "execution_count": 19,
     "metadata": {
      "tags": []
     },
     "output_type": "execute_result"
    }
   ],
   "source": [
    "xTest = []\n",
    "for i in range(timestep, len(xTestSet)):\n",
    "    xTest.append(xTestSet[i-timestep : i])\n",
    "xTest = np.array(xTest)\n",
    "print(len(xTest))\n",
    "\n",
    "yTest = []\n",
    "for i in range(timestep, len(xTestSet)):\n",
    "    yTest.append(yTestSet[i])\n",
    "yTest = np.array(yTest)\n",
    "yTest = sc.inverse_transform(yTest)\n",
    "len(yTest)"
   ]
  },
  {
   "cell_type": "code",
   "execution_count": 20,
   "metadata": {
    "colab": {
     "base_uri": "https://localhost:8080/"
    },
    "id": "_tTE75kxiTNf",
    "outputId": "657f6094-59a2-4af2-c990-7e828d9aeba9"
   },
   "outputs": [
    {
     "data": {
      "text/plain": [
       "array([[10.442964],\n",
       "       [ 9.880576],\n",
       "       [ 9.022699],\n",
       "       ...,\n",
       "       [16.375065],\n",
       "       [15.539744],\n",
       "       [14.877621]], dtype=float32)"
      ]
     },
     "execution_count": 20,
     "metadata": {
      "tags": []
     },
     "output_type": "execute_result"
    }
   ],
   "source": [
    "yPredictes = model_rnn.predict(x=xTest)\n",
    "yPredictes = sc.inverse_transform(yPredictes)\n",
    "yPredictes"
   ]
  },
  {
   "cell_type": "code",
   "execution_count": 21,
   "metadata": {
    "id": "UcSj9Hg_HMpC"
   },
   "outputs": [],
   "source": [
    "r2_value = {}"
   ]
  },
  {
   "cell_type": "code",
   "execution_count": 22,
   "metadata": {
    "colab": {
     "base_uri": "https://localhost:8080/",
     "height": 312
    },
    "id": "o8VQ7teLp0lB",
    "outputId": "640a90e4-a316-460e-d979-b2496f470f25"
   },
   "outputs": [
    {
     "data": {
      "image/png": "[encoded data removed]",
      "text/plain": [
       "<Figure size 432x288 with 1 Axes>"
      ]
     },
     "metadata": {
      "needs_background": "light",
      "tags": []
     },
     "output_type": "display_data"
    },
    {
     "name": "stdout",
     "output_type": "stream",
     "text": [
      "0.966580459961591\n"
     ]
    }
   ],
   "source": [
    "plt.plot(yTest, 'c-', label='Real')\n",
    "plt.plot(yPredictes, 'm-', label='Predict')\n",
    "# plt.plot(data_original, color='red', label='Real')\n",
    "# plt.plot(range(len(y_train)),yPredicts, color='blue', label='Predict')\n",
    "plt.title(label='Prediction')\n",
    "plt.xlabel(xlabel='Time')\n",
    "plt.ylabel(ylabel='T')\n",
    "plt.legend()\n",
    "plt.show()\n",
    "\n",
    "r2 = r2_score(yTest, yPredictes)\n",
    "r2_value['RNN'] = r2\n",
    "print(r2)"
   ]
  },
  {
   "cell_type": "markdown",
   "metadata": {
    "id": "VZfrf8pP3nit"
   },
   "source": [
    "# <font color=purple>Dense</font>"
   ]
  },
  {
   "cell_type": "code",
   "execution_count": 23,
   "metadata": {
    "id": "zYI4xYFK3vOg"
   },
   "outputs": [],
   "source": [
    "timestep = dense_width"
   ]
  },
  {
   "cell_type": "code",
   "execution_count": 24,
   "metadata": {
    "id": "Z1azZOyM3vQ3"
   },
   "outputs": [],
   "source": [
    "xTrainSet = dt_nor[:training_num]\n",
    "yTrainSet = dt_nor[1:training_num+1]"
   ]
  },
  {
   "cell_type": "code",
   "execution_count": 25,
   "metadata": {
    "colab": {
     "base_uri": "https://localhost:8080/"
    },
    "id": "E-VUIv-93vTS",
    "outputId": "c46ba3c1-9fd0-4208-c67d-631dce50a2e3"
   },
   "outputs": [
    {
     "name": "stdout",
     "output_type": "stream",
     "text": [
      "(11969, 31, 1)\n",
      "(11969, 1)\n"
     ]
    }
   ],
   "source": [
    "xTrain = []\n",
    "for i in range(timestep, training_num):\n",
    "  xTrain.append(xTrainSet[i-timestep : i])\n",
    "xTrain = np.array(xTrain)\n",
    "#xTrain = np.squeeze(xTrain)\n",
    "xTrain = np.reshape(xTrain, (xTrain.shape[0], xTrain.shape[1], 1))\n",
    "print(xTrain.shape)\n",
    "\n",
    "yTrain = []\n",
    "for i in range(timestep, training_num):\n",
    "  yTrain.append(yTrainSet[i])\n",
    "yTrain = np.array(yTrain)\n",
    "#yTrain = np.reshape(yTrain, (yTrain.shape[0], 1))\n",
    "print(yTrain.shape)"
   ]
  },
  {
   "cell_type": "code",
   "execution_count": 26,
   "metadata": {
    "colab": {
     "base_uri": "https://localhost:8080/"
    },
    "id": "GUGkjUTkKN9I",
    "outputId": "319aed0f-9e21-4ce0-9461-e01ac9a3c65e"
   },
   "outputs": [
    {
     "name": "stdout",
     "output_type": "stream",
     "text": [
      "Model: \"sequential_139\"\n",
      "_________________________________________________________________\n",
      "Layer (type)                 Output Shape              Param #   \n",
      "=================================================================\n",
      "flatten_92 (Flatten)         (None, 31)                0         \n",
      "_________________________________________________________________\n",
      "dense_277 (Dense)            (None, 128)               4096      \n",
      "_________________________________________________________________\n",
      "dense_278 (Dense)            (None, 64)                8256      \n",
      "_________________________________________________________________\n",
      "dense_279 (Dense)            (None, 1)                 65        \n",
      "=================================================================\n",
      "Total params: 12,417\n",
      "Trainable params: 12,417\n",
      "Non-trainable params: 0\n",
      "_________________________________________________________________\n"
     ]
    }
   ],
   "source": [
    "model_dense = Sequential()\n",
    "model_dense.add(Input(shape = (xTrain.shape[1])))\n",
    "model_dense.add(Flatten())\n",
    "model_dense.add(Dense(128, activation='relu'))\n",
    "model_dense.add(Dense(64, activation='relu'))\n",
    "model_dense.add(Dense(1))\n",
    "\n",
    "model_dense.summary()"
   ]
  },
  {
   "cell_type": "code",
   "execution_count": 27,
   "metadata": {
    "colab": {
     "base_uri": "https://localhost:8080/"
    },
    "id": "Y3gAF-8L3vYC",
    "outputId": "00daeeee-fb43-4590-b421-06b71cdedde8"
   },
   "outputs": [
    {
     "name": "stdout",
     "output_type": "stream",
     "text": [
      "Epoch 1/10\n",
      "60/60 [==============================] - 0s 2ms/step - loss: 0.0367 - mean_absolute_error: 0.1341\n",
      "Epoch 2/10\n",
      "60/60 [==============================] - 0s 2ms/step - loss: 0.0011 - mean_absolute_error: 0.0255\n",
      "Epoch 3/10\n",
      "60/60 [==============================] - 0s 2ms/step - loss: 8.4854e-04 - mean_absolute_error: 0.0222\n",
      "Epoch 4/10\n",
      "60/60 [==============================] - 0s 2ms/step - loss: 7.3950e-04 - mean_absolute_error: 0.0204\n",
      "Epoch 5/10\n",
      "60/60 [==============================] - 0s 2ms/step - loss: 6.8657e-04 - mean_absolute_error: 0.0195\n",
      "Epoch 6/10\n",
      "60/60 [==============================] - 0s 2ms/step - loss: 6.4759e-04 - mean_absolute_error: 0.0188\n",
      "Epoch 7/10\n",
      "60/60 [==============================] - 0s 2ms/step - loss: 5.9562e-04 - mean_absolute_error: 0.0181\n",
      "Epoch 8/10\n",
      "60/60 [==============================] - 0s 2ms/step - loss: 5.7174e-04 - mean_absolute_error: 0.0177\n",
      "Epoch 9/10\n",
      "60/60 [==============================] - 0s 2ms/step - loss: 5.9664e-04 - mean_absolute_error: 0.0181\n",
      "Epoch 10/10\n",
      "60/60 [==============================] - 0s 2ms/step - loss: 5.8784e-04 - mean_absolute_error: 0.0180\n"
     ]
    },
    {
     "data": {
      "text/plain": [
       "<tensorflow.python.keras.callbacks.History at 0x7f23f3db7668>"
      ]
     },
     "execution_count": 27,
     "metadata": {
      "tags": []
     },
     "output_type": "execute_result"
    }
   ],
   "source": [
    "model_dense.compile(optimizer = 'adam',\n",
    "          loss = 'mean_squared_error',\n",
    "          metrics = [tf.metrics.MeanAbsoluteError()])\n",
    "model_dense.fit(x = xTrain, y = yTrain, epochs = epoch, batch_size = batch_size)"
   ]
  },
  {
   "cell_type": "markdown",
   "metadata": {
    "id": "AXz4r4Gk7g-y"
   },
   "source": [
    "# <font color=purple>Test model's accuracy by r2_score (1200 days)</font>"
   ]
  },
  {
   "cell_type": "code",
   "execution_count": 28,
   "metadata": {
    "id": "QBPdG6rf3vaq"
   },
   "outputs": [],
   "source": [
    "xTestSet = dt_nor[training_num : 40800-2]\n",
    "xTestSet = np.array(xTestSet)\n",
    "\n",
    "yTestSet = dt_nor[training_num+1 : 40800-1]\n",
    "yTestSet = np.array(yTestSet)"
   ]
  },
  {
   "cell_type": "code",
   "execution_count": 29,
   "metadata": {
    "colab": {
     "base_uri": "https://localhost:8080/"
    },
    "id": "A6q9mX1i6Eke",
    "outputId": "69490693-930e-49d1-8c25-f9f41ac87b2f"
   },
   "outputs": [
    {
     "data": {
      "text/plain": [
       "28767"
      ]
     },
     "execution_count": 29,
     "metadata": {
      "tags": []
     },
     "output_type": "execute_result"
    }
   ],
   "source": [
    "xTest = []\n",
    "for i in range(timestep, len(xTestSet)):\n",
    "    xTest.append(xTestSet[i-timestep : i])\n",
    "xTest = np.array(xTest)\n",
    "#xTest = np.squeeze(xTest)\n",
    "\n",
    "yTest = []\n",
    "for i in range(timestep, len(xTestSet)):\n",
    "    yTest.append(yTestSet[i])\n",
    "yTest = np.array(yTest)\n",
    "yTest = sc.inverse_transform(yTest)\n",
    "len(xTest)"
   ]
  },
  {
   "cell_type": "code",
   "execution_count": 30,
   "metadata": {
    "colab": {
     "base_uri": "https://localhost:8080/"
    },
    "id": "sP2mCgPv8fm5",
    "outputId": "6acb498f-5b8d-4add-84df-7d1c29abe4ef"
   },
   "outputs": [
    {
     "data": {
      "text/plain": [
       "(28767, 1)"
      ]
     },
     "execution_count": 30,
     "metadata": {
      "tags": []
     },
     "output_type": "execute_result"
    }
   ],
   "source": [
    "yTest.shape"
   ]
  },
  {
   "cell_type": "code",
   "execution_count": 31,
   "metadata": {
    "colab": {
     "base_uri": "https://localhost:8080/"
    },
    "id": "B1R_0pKF6Em0",
    "outputId": "c584f58b-2a4e-4156-b04e-91142a14f6cf"
   },
   "outputs": [
    {
     "data": {
      "text/plain": [
       "array([[10.05247 ],\n",
       "       [13.334333],\n",
       "       [14.62565 ],\n",
       "       ...,\n",
       "       [17.424633],\n",
       "       [16.384659],\n",
       "       [15.441449]], dtype=float32)"
      ]
     },
     "execution_count": 31,
     "metadata": {
      "tags": []
     },
     "output_type": "execute_result"
    }
   ],
   "source": [
    "yPredictes = model_dense.predict(x=xTest)\n",
    "yPredictes = sc.inverse_transform(yPredictes)\n",
    "yPredictes"
   ]
  },
  {
   "cell_type": "code",
   "execution_count": 32,
   "metadata": {
    "colab": {
     "base_uri": "https://localhost:8080/",
     "height": 312
    },
    "id": "Ropf9xE06EpC",
    "outputId": "776d8949-7a67-4370-894b-4af506663879"
   },
   "outputs": [
    {
     "data": {
      "image/png": "[encoded data removed]",
      "text/plain": [
       "<Figure size 432x288 with 1 Axes>"
      ]
     },
     "metadata": {
      "needs_background": "light",
      "tags": []
     },
     "output_type": "display_data"
    },
    {
     "name": "stdout",
     "output_type": "stream",
     "text": [
      "0.9754810370866053\n"
     ]
    }
   ],
   "source": [
    "plt.plot(yTest, 'c-', label='Real')\n",
    "plt.plot(yPredictes, 'm-', label='Predict')\n",
    "# plt.plot(data_original, color='red', label='Real')\n",
    "# plt.plot(range(len(y_train)),yPredicts, color='blue', label='Predict')\n",
    "plt.title(label='Prediction')\n",
    "plt.xlabel(xlabel='Time')\n",
    "plt.ylabel(ylabel='T')\n",
    "plt.legend()\n",
    "plt.show()\n",
    "\n",
    "r2 = r2_score(yTest, yPredictes)\n",
    "r2_value['Dense'] = r2\n",
    "print(r2)"
   ]
  },
  {
   "cell_type": "markdown",
   "metadata": {
    "id": "58nqhD7H4lcf"
   },
   "source": [
    "# <font color=purple>Cnn</font>"
   ]
  },
  {
   "cell_type": "code",
   "execution_count": 33,
   "metadata": {
    "id": "u1-tI1mhINw9"
   },
   "outputs": [],
   "source": [
    "timestep = cnn_width"
   ]
  },
  {
   "cell_type": "code",
   "execution_count": 34,
   "metadata": {
    "id": "LbDV9Xd23vdA"
   },
   "outputs": [],
   "source": [
    "xTrainSet = dt_nor[:training_num]\n",
    "yTrainSet = dt_nor[1:training_num+1]"
   ]
  },
  {
   "cell_type": "code",
   "execution_count": 35,
   "metadata": {
    "colab": {
     "base_uri": "https://localhost:8080/"
    },
    "id": "jSaV4zYq3vgW",
    "outputId": "a45a2092-08a2-433b-de49-370a500935ff"
   },
   "outputs": [
    {
     "name": "stdout",
     "output_type": "stream",
     "text": [
      "(11975, 25, 1)\n",
      "(11975, 1)\n"
     ]
    }
   ],
   "source": [
    "xTrain = []\n",
    "for i in range(timestep, training_num):\n",
    "  xTrain.append(xTrainSet[i-timestep : i])\n",
    "xTrain = np.array(xTrain)\n",
    "# xTrain = np.squeeze(xTrain)\n",
    "xTrain = np.reshape(xTrain, (xTrain.shape[0], xTrain.shape[1], 1))\n",
    "print(xTrain.shape)\n",
    "\n",
    "yTrain = []\n",
    "for i in range(timestep, training_num):\n",
    "  yTrain.append(yTrainSet[i])\n",
    "yTrain = np.array(yTrain)\n",
    "#yTrain = np.reshape(yTrain, (yTrain.shape[0], 1))\n",
    "print(yTrain.shape)"
   ]
  },
  {
   "cell_type": "code",
   "execution_count": 36,
   "metadata": {
    "colab": {
     "base_uri": "https://localhost:8080/"
    },
    "id": "Jddy-dawKYbm",
    "outputId": "2ec4e577-527f-4012-c8d0-267cde1e23bd"
   },
   "outputs": [
    {
     "name": "stdout",
     "output_type": "stream",
     "text": [
      "Model: \"sequential_140\"\n",
      "_________________________________________________________________\n",
      "Layer (type)                 Output Shape              Param #   \n",
      "=================================================================\n",
      "conv1d_92 (Conv1D)           (None, 23, 64)            256       \n",
      "_________________________________________________________________\n",
      "conv1d_93 (Conv1D)           (None, 21, 32)            6176      \n",
      "_________________________________________________________________\n",
      "flatten_93 (Flatten)         (None, 672)               0         \n",
      "_________________________________________________________________\n",
      "dense_280 (Dense)            (None, 32)                21536     \n",
      "_________________________________________________________________\n",
      "dense_281 (Dense)            (None, 1)                 33        \n",
      "=================================================================\n",
      "Total params: 28,001\n",
      "Trainable params: 28,001\n",
      "Non-trainable params: 0\n",
      "_________________________________________________________________\n"
     ]
    }
   ],
   "source": [
    "conv_width = 3\n",
    "model_cnn = Sequential()\n",
    "model_cnn.add(Conv1D(64, kernel_size=(conv_width),  input_shape = (xTrain.shape[1],1), activation='relu'))\n",
    "model_cnn.add(Conv1D(32, kernel_size=(conv_width), activation='relu'))\n",
    "model_cnn.add(Flatten())\n",
    "model_cnn.add(Dense(32, activation='relu'))\n",
    "model_cnn.add(Dense(1))\n",
    "\n",
    "model_cnn.summary()"
   ]
  },
  {
   "cell_type": "code",
   "execution_count": 37,
   "metadata": {
    "colab": {
     "base_uri": "https://localhost:8080/"
    },
    "id": "YosJ3W-48aE9",
    "outputId": "582b8c95-c080-4a66-c6e8-8c3ffa75d4cc"
   },
   "outputs": [
    {
     "name": "stdout",
     "output_type": "stream",
     "text": [
      "Epoch 1/10\n",
      "60/60 [==============================] - 1s 3ms/step - loss: 0.0913 - mean_absolute_error: 0.2289\n",
      "Epoch 2/10\n",
      "60/60 [==============================] - 0s 3ms/step - loss: 0.0034 - mean_absolute_error: 0.0453\n",
      "Epoch 3/10\n",
      "60/60 [==============================] - 0s 2ms/step - loss: 0.0016 - mean_absolute_error: 0.0305\n",
      "Epoch 4/10\n",
      "60/60 [==============================] - 0s 2ms/step - loss: 0.0012 - mean_absolute_error: 0.0267\n",
      "Epoch 5/10\n",
      "60/60 [==============================] - 0s 2ms/step - loss: 0.0010 - mean_absolute_error: 0.0244\n",
      "Epoch 6/10\n",
      "60/60 [==============================] - 0s 2ms/step - loss: 9.7746e-04 - mean_absolute_error: 0.0235\n",
      "Epoch 7/10\n",
      "60/60 [==============================] - 0s 2ms/step - loss: 8.5505e-04 - mean_absolute_error: 0.0219\n",
      "Epoch 8/10\n",
      "60/60 [==============================] - 0s 3ms/step - loss: 7.4004e-04 - mean_absolute_error: 0.0205\n",
      "Epoch 9/10\n",
      "60/60 [==============================] - 0s 2ms/step - loss: 6.1827e-04 - mean_absolute_error: 0.0185\n",
      "Epoch 10/10\n",
      "60/60 [==============================] - 0s 2ms/step - loss: 5.8741e-04 - mean_absolute_error: 0.0180\n"
     ]
    },
    {
     "data": {
      "text/plain": [
       "<tensorflow.python.keras.callbacks.History at 0x7f23f3e73940>"
      ]
     },
     "execution_count": 37,
     "metadata": {
      "tags": []
     },
     "output_type": "execute_result"
    }
   ],
   "source": [
    "model_cnn.compile(optimizer = 'adam',\n",
    "          loss = 'mean_squared_error',\n",
    "          metrics = [tf.metrics.MeanAbsoluteError()])\n",
    "model_cnn.fit(x = xTrain, y = yTrain, epochs = epoch, batch_size = batch_size)"
   ]
  },
  {
   "cell_type": "markdown",
   "metadata": {
    "id": "R1kjq6i77qrp"
   },
   "source": [
    "# <font color=purple>Test model's accuracy by r2_score (1200 days)</font>"
   ]
  },
  {
   "cell_type": "code",
   "execution_count": 38,
   "metadata": {
    "id": "2HcWUyDc8aHY"
   },
   "outputs": [],
   "source": [
    "xTestSet = dt_nor[training_num : 40800-2]\n",
    "xTestSet = np.array(xTestSet)\n",
    "\n",
    "yTestSet = dt_nor[training_num+1 : 40800-1]\n",
    "yTestSet = np.array(yTestSet)"
   ]
  },
  {
   "cell_type": "code",
   "execution_count": 39,
   "metadata": {
    "colab": {
     "base_uri": "https://localhost:8080/"
    },
    "id": "xIII9cjH8aJh",
    "outputId": "0959322e-879b-4580-ceb0-f12d6604da7e"
   },
   "outputs": [
    {
     "data": {
      "text/plain": [
       "28773"
      ]
     },
     "execution_count": 39,
     "metadata": {
      "tags": []
     },
     "output_type": "execute_result"
    }
   ],
   "source": [
    "xTest = []\n",
    "for i in range(timestep, len(xTestSet)):\n",
    "    xTest.append(xTestSet[i-timestep : i])\n",
    "xTest = np.array(xTest)\n",
    "# xTest = np.squeeze(xTest)\n",
    "\n",
    "yTest = []\n",
    "for i in range(timestep, len(xTestSet)):\n",
    "    yTest.append(yTestSet[i])\n",
    "yTest = np.array(yTest)\n",
    "yTest = sc.inverse_transform(yTest)\n",
    "len(xTest)"
   ]
  },
  {
   "cell_type": "code",
   "execution_count": 40,
   "metadata": {
    "colab": {
     "base_uri": "https://localhost:8080/"
    },
    "id": "Hc-KT-zY8aLm",
    "outputId": "5c66d751-0241-4873-c7a6-4b7b1339c645"
   },
   "outputs": [
    {
     "data": {
      "text/plain": [
       "(28773, 1)"
      ]
     },
     "execution_count": 40,
     "metadata": {
      "tags": []
     },
     "output_type": "execute_result"
    }
   ],
   "source": [
    "yPredictes = model_cnn.predict(x=xTest)\n",
    "yPredictes = sc.inverse_transform(yPredictes)\n",
    "yPredictes.shape"
   ]
  },
  {
   "cell_type": "code",
   "execution_count": 41,
   "metadata": {
    "colab": {
     "base_uri": "https://localhost:8080/",
     "height": 312
    },
    "id": "Jf1Jsdpn8aNw",
    "outputId": "a944f65e-6eaf-4111-81c8-50f4b4e0aa0b"
   },
   "outputs": [
    {
     "data": {
      "image/png": "[encoded data removed]",
      "text/plain": [
       "<Figure size 432x288 with 1 Axes>"
      ]
     },
     "metadata": {
      "needs_background": "light",
      "tags": []
     },
     "output_type": "display_data"
    },
    {
     "name": "stdout",
     "output_type": "stream",
     "text": [
      "0.970434208330225\n"
     ]
    }
   ],
   "source": [
    "plt.plot(yTest, 'c-', label='Real')\n",
    "plt.plot(yPredictes, 'm-', label='Predict')\n",
    "# plt.plot(data_original, color='red', label='Real')\n",
    "# plt.plot(range(len(y_train)),yPredicts, color='blue', label='Predict')\n",
    "plt.title(label='Prediction')\n",
    "plt.xlabel(xlabel='Time')\n",
    "plt.ylabel(ylabel='T')\n",
    "plt.legend()\n",
    "plt.show()\n",
    "\n",
    "r2 = r2_score(yTest, yPredictes)\n",
    "r2_value['CNN'] = r2\n",
    "print(r2)"
   ]
  },
  {
   "cell_type": "markdown",
   "metadata": {},
   "source": [
    "# <font color=purple>Compare</font>"
   ]
  },
  {
   "cell_type": "code",
   "execution_count": 42,
   "metadata": {
    "colab": {
     "base_uri": "https://localhost:8080/"
    },
    "id": "JFDYLKRR8aRU",
    "outputId": "45f3f16d-6246-4142-c3db-7cba14e0db4f"
   },
   "outputs": [
    {
     "data": {
      "text/plain": [
       "{'CNN': 0.970434208330225,\n",
       " 'Dense': 0.9754810370866053,\n",
       " 'RNN': 0.966580459961591}"
      ]
     },
     "execution_count": 42,
     "metadata": {
      "tags": []
     },
     "output_type": "execute_result"
    }
   ],
   "source": [
    "r2_value"
   ]
  },
  {
   "cell_type": "code",
   "execution_count": 43,
   "metadata": {
    "colab": {
     "base_uri": "https://localhost:8080/",
     "height": 448
    },
    "id": "ICAFX9ZaHzSv",
    "outputId": "1dc646a3-574d-4715-b0e5-c098a453a610"
   },
   "outputs": [
    {
     "data": {
      "image/png": "[encoded data removed]",
      "text/plain": [
       "<Figure size 288x504 with 1 Axes>"
      ]
     },
     "metadata": {
      "needs_background": "light",
      "tags": []
     },
     "output_type": "display_data"
    }
   ],
   "source": [
    "x = np.arange(3)\n",
    "width = 0.2\n",
    "\n",
    "val_r2 = r2_value.values()\n",
    "\n",
    "plt.figure(figsize=(4,7))\n",
    "plt.ylabel('r2_score [T (degC)]')\n",
    "plt.bar(x , val_r2, 0.4, label='Test')\n",
    "plt.xticks(ticks=x, labels=r2_value.keys(), rotation=45)\n",
    "_ = plt.legend()"
   ]
  },
  {
   "cell_type": "markdown",
   "metadata": {
    "id": "IUfXqKYFg-Z3"
   },
   "source": [
    "# <font color=purple>Use predict data to predict future</font>"
   ]
  },
  {
   "cell_type": "markdown",
   "metadata": {
    "id": "ePrX7u4OVqtK"
   },
   "source": [
    "# <font color=purple>Rnn</fnt>"
   ]
  },
  {
   "cell_type": "code",
   "execution_count": 44,
   "metadata": {
    "id": "7eM2Zs3ThDrK"
   },
   "outputs": [],
   "source": [
    "# Take last 24 hours to predict\n",
    "Predict_hours = 24\n",
    "\n",
    "xPred = dt_nor[-Predict_hours-rnn_width:-Predict_hours]\n",
    "xPred = np.array(xPred)\n",
    "xPred_in = sc.inverse_transform(xPred)\n",
    "xPred = np.reshape(xPred, (xPred.shape[1], xPred.shape[0], 1))\n",
    "\n",
    "yFutureTest = dt_nor[-Predict_hours:]\n",
    "yFutureTest = np.array(yFutureTest)\n",
    "yFutureTest = sc.inverse_transform(yFutureTest)\n",
    "\n",
    "real = []\n",
    "real = np.append(xPred_in, yFutureTest, axis = 0)"
   ]
  },
  {
   "cell_type": "code",
   "execution_count": 45,
   "metadata": {
    "colab": {
     "base_uri": "https://localhost:8080/"
    },
    "id": "RQkZ9apafqqm",
    "outputId": "63152061-ed59-460d-c405-65d9ee6c621c"
   },
   "outputs": [
    {
     "data": {
      "text/plain": [
       "(1, 42, 1)"
      ]
     },
     "execution_count": 45,
     "metadata": {
      "tags": []
     },
     "output_type": "execute_result"
    }
   ],
   "source": [
    "xPred.shape"
   ]
  },
  {
   "cell_type": "code",
   "execution_count": 46,
   "metadata": {
    "id": "Le1hsun3i-qm"
   },
   "outputs": [],
   "source": [
    "def PredFuture_rnn(xPred):\n",
    "  yPred = model_rnn.predict(x=xPred)\n",
    "  yPred = np.reshape(yPred, (1, 1, 1))\n",
    "  data = np.append(xPred, yPred, axis = 1)\n",
    "  data = data[:, -(rnn_width):, :]\n",
    "  return data\n",
    "\n",
    "yModelPred = []\n",
    "for i in range (Predict_hours):\n",
    "  xPred = PredFuture_rnn(xPred)\n",
    "  yModelPred.append(xPred[0][-1])"
   ]
  },
  {
   "cell_type": "code",
   "execution_count": 47,
   "metadata": {
    "id": "6D6FFRIuttNG"
   },
   "outputs": [],
   "source": [
    "yModelPred = np.array(yModelPred)\n",
    "yModelPred = sc.inverse_transform(yModelPred)"
   ]
  },
  {
   "cell_type": "code",
   "execution_count": 48,
   "metadata": {
    "colab": {
     "base_uri": "https://localhost:8080/",
     "height": 312
    },
    "id": "qwRIuIrywg6f",
    "outputId": "3baff5b5-57e3-4a95-f0b7-a7cbc3fc8e2f"
   },
   "outputs": [
    {
     "data": {
      "image/png": "[encoded data removed]",
      "text/plain": [
       "<Figure size 432x288 with 1 Axes>"
      ]
     },
     "metadata": {
      "needs_background": "light",
      "tags": []
     },
     "output_type": "display_data"
    },
    {
     "name": "stdout",
     "output_type": "stream",
     "text": [
      "0.6429095118313762\n"
     ]
    }
   ],
   "source": [
    "plt.plot(real, 'y-', label='train')\n",
    "plt.plot(range(rnn_width, Predict_hours + rnn_width), yFutureTest, 'c-', label='Real')\n",
    "plt.plot(range(rnn_width, Predict_hours + rnn_width), yModelPred, 'm-', label='Predict')\n",
    "plt.title(label='Prediction')\n",
    "plt.xlabel(xlabel='Time')\n",
    "plt.ylabel(ylabel='T')\n",
    "plt.legend()\n",
    "plt.show()\n",
    "\n",
    "r2_future = {}\n",
    "r2 = r2_score(yFutureTest, yModelPred)\n",
    "r2_future['RNN'] = r2\n",
    "print(r2)"
   ]
  },
  {
   "cell_type": "markdown",
   "metadata": {
    "id": "DtQD4DoNbbHp"
   },
   "source": [
    "# <font color=purple>Cnn</font>"
   ]
  },
  {
   "cell_type": "code",
   "execution_count": 49,
   "metadata": {
    "id": "l8048wtcbdJG"
   },
   "outputs": [],
   "source": [
    "# Take last 24 hours to predict\n",
    "Predict_hours = 24\n",
    "\n",
    "xPred = dt_nor[-Predict_hours-cnn_width:-Predict_hours]\n",
    "xPred = np.array(xPred)\n",
    "xPred_in = sc.inverse_transform(xPred)\n",
    "# #xPred = np.reshape(xPred, (1,xPred.shape[0],xPred.shape[1]))\n",
    "xPred = np.reshape(xPred, (xPred.shape[1], xPred.shape[0], 1))\n",
    "\n",
    "yFutureTest = dt_nor[-Predict_hours:]\n",
    "yFutureTest = np.array(yFutureTest)\n",
    "yFutureTest = sc.inverse_transform(yFutureTest)\n",
    "\n",
    "real = []\n",
    "real = np.append(xPred_in, yFutureTest, axis = 0)"
   ]
  },
  {
   "cell_type": "code",
   "execution_count": 50,
   "metadata": {
    "id": "SvEEMRkYbdP9"
   },
   "outputs": [],
   "source": [
    "def PredFuture_cnn(xPred):\n",
    "  yPred = model_cnn.predict(xPred)\n",
    "  yPred = np.reshape(yPred, (1, 1, 1))\n",
    "  data = np.append(xPred, yPred, axis = 1)\n",
    "  data = data[:, -(cnn_width):, :]\n",
    "  return data\n",
    "\n",
    "yModelPred = []\n",
    "for i in range (Predict_hours):\n",
    "  xPred = PredFuture_cnn(xPred)\n",
    "  yModelPred.append(xPred[0][-1])"
   ]
  },
  {
   "cell_type": "code",
   "execution_count": 51,
   "metadata": {
    "id": "Yyrt7gXBbdSo"
   },
   "outputs": [],
   "source": [
    "yModelPred = np.array(yModelPred)\n",
    "yModelPred = sc.inverse_transform(yModelPred)"
   ]
  },
  {
   "cell_type": "code",
   "execution_count": 52,
   "metadata": {
    "colab": {
     "base_uri": "https://localhost:8080/",
     "height": 312
    },
    "id": "spwbdFjTbdV9",
    "outputId": "ea9919b8-01a4-452d-c29e-00a4e4461ecd"
   },
   "outputs": [
    {
     "data": {
      "image/png": "[encoded data removed]",
      "text/plain": [
       "<Figure size 432x288 with 1 Axes>"
      ]
     },
     "metadata": {
      "needs_background": "light",
      "tags": []
     },
     "output_type": "display_data"
    },
    {
     "name": "stdout",
     "output_type": "stream",
     "text": [
      "0.7851424365003093\n"
     ]
    }
   ],
   "source": [
    "plt.plot(real, 'y-', label='train')\n",
    "plt.plot(range(cnn_width, Predict_hours + cnn_width), yFutureTest, 'c-', label='Real')\n",
    "plt.plot(range(cnn_width, Predict_hours + cnn_width), yModelPred, 'm-', label='Predict')\n",
    "plt.title(label='Prediction')\n",
    "plt.xlabel(xlabel='Time')\n",
    "plt.ylabel(ylabel='T')\n",
    "plt.legend()\n",
    "plt.show()\n",
    "\n",
    "r2 = r2_score(yFutureTest, yModelPred)\n",
    "r2_future['CNN'] = r2\n",
    "print(r2)"
   ]
  },
  {
   "cell_type": "markdown",
   "metadata": {
    "id": "aBzs_D3z4ZRP"
   },
   "source": [
    "# <font color=purple>Dense</font>"
   ]
  },
  {
   "cell_type": "code",
   "execution_count": 53,
   "metadata": {
    "id": "qbSXOc1F4bXW"
   },
   "outputs": [],
   "source": [
    "# Take last 24 hours to predict\n",
    "Predict_hours = 24\n",
    "\n",
    "xPred = dt_nor[-Predict_hours-dense_width:-Predict_hours]\n",
    "xPred = np.array(xPred)\n",
    "xPred_in = sc.inverse_transform(xPred)\n",
    "# #xPred = np.reshape(xPred, (1,xPred.shape[0],xPred.shape[1]))\n",
    "xPred = np.reshape(xPred, (xPred.shape[1], xPred.shape[0], 1))\n",
    "\n",
    "yFutureTest = dt_nor[-Predict_hours:]\n",
    "yFutureTest = np.array(yFutureTest)\n",
    "yFutureTest = sc.inverse_transform(yFutureTest)\n",
    "\n",
    "real = []\n",
    "real = np.append(xPred_in, yFutureTest, axis = 0)"
   ]
  },
  {
   "cell_type": "code",
   "execution_count": 54,
   "metadata": {
    "id": "G_ZCE2YO4bZ_"
   },
   "outputs": [],
   "source": [
    "def PredFuture_dense(xPred):\n",
    "  yPred = model_dense.predict(xPred)\n",
    "  yPred = np.reshape(yPred, (1, 1, 1))\n",
    "  data = np.append(xPred, yPred, axis = 1)\n",
    "  data = data[:, -(dense_width):, :]\n",
    "  return data\n",
    "\n",
    "yModelPred = []\n",
    "for i in range (Predict_hours):\n",
    "  xPred = PredFuture_dense(xPred)\n",
    "  yModelPred.append(xPred[0][-1])"
   ]
  },
  {
   "cell_type": "code",
   "execution_count": 55,
   "metadata": {
    "id": "U5J64VO34bdd"
   },
   "outputs": [],
   "source": [
    "yModelPred = np.array(yModelPred)\n",
    "yModelPred = sc.inverse_transform(yModelPred)"
   ]
  },
  {
   "cell_type": "code",
   "execution_count": 56,
   "metadata": {
    "colab": {
     "base_uri": "https://localhost:8080/",
     "height": 312
    },
    "id": "a7GCw57B4bf0",
    "outputId": "3b5f5452-4af5-447a-ba6f-c79fc15eff2d"
   },
   "outputs": [
    {
     "data": {
      "image/png": "[encoded data removed]",
      "text/plain": [
       "<Figure size 432x288 with 1 Axes>"
      ]
     },
     "metadata": {
      "needs_background": "light",
      "tags": []
     },
     "output_type": "display_data"
    },
    {
     "name": "stdout",
     "output_type": "stream",
     "text": [
      "0.682133078239662\n"
     ]
    }
   ],
   "source": [
    "plt.plot(real, 'y-', label='train')\n",
    "plt.plot(range(dense_width, Predict_hours + dense_width), yFutureTest, 'c-', label='Real')\n",
    "plt.plot(range(dense_width, Predict_hours + dense_width), yModelPred, 'm-', label='Predict')\n",
    "plt.title(label='Prediction')\n",
    "plt.xlabel(xlabel='Time')\n",
    "plt.ylabel(ylabel='T')\n",
    "plt.legend()\n",
    "plt.show()\n",
    "\n",
    "r2 = r2_score(yFutureTest, yModelPred)\n",
    "r2_future['Dense'] = r2\n",
    "print(r2)"
   ]
  },
  {
   "cell_type": "markdown",
   "metadata": {},
   "source": [
    "# <font color=purple>Compare</font>"
   ]
  },
  {
   "cell_type": "code",
   "execution_count": 57,
   "metadata": {
    "colab": {
     "base_uri": "https://localhost:8080/"
    },
    "id": "2BUqUqJd6W4P",
    "outputId": "47851857-b854-4fbc-d1ba-b6185053b64f"
   },
   "outputs": [
    {
     "data": {
      "text/plain": [
       "{'CNN': 0.7851424365003093,\n",
       " 'Dense': 0.682133078239662,\n",
       " 'RNN': 0.6429095118313762}"
      ]
     },
     "execution_count": 57,
     "metadata": {
      "tags": []
     },
     "output_type": "execute_result"
    }
   ],
   "source": [
    "r2_future"
   ]
  },
  {
   "cell_type": "code",
   "execution_count": 58,
   "metadata": {
    "colab": {
     "base_uri": "https://localhost:8080/",
     "height": 448
    },
    "id": "To-Pb2R_6Y0h",
    "outputId": "5ec6b25a-d356-4652-ea82-bf1134716e03"
   },
   "outputs": [
    {
     "data": {
      "image/png": "[encoded data removed]",
      "text/plain": [
       "<Figure size 288x504 with 1 Axes>"
      ]
     },
     "metadata": {
      "needs_background": "light",
      "tags": []
     },
     "output_type": "display_data"
    }
   ],
   "source": [
    "x = np.arange(3)\n",
    "width = 0.2\n",
    "\n",
    "val_r2 = r2_future.values()\n",
    "\n",
    "plt.figure(figsize=(4,7))\n",
    "plt.ylabel('r2_score [T (degC)]')\n",
    "plt.axhline(0, color= 'r')\n",
    "plt.bar(x , val_r2, 0.4, label='Test')\n",
    "plt.xticks(ticks=x, labels=r2_future.keys(), rotation=45)\n",
    "_ = plt.legend()"
   ]
  }
 ],
 "metadata": {
  "accelerator": "GPU",
  "colab": {
   "collapsed_sections": [],
   "name": "finalCRD_v1",
   "provenance": []
  },
  "kernelspec": {
   "display_name": "Python 3",
   "language": "python",
   "name": "python3"
  },
  "language_info": {
   "codemirror_mode": {
    "name": "ipython",
    "version": 3
   },
   "file_extension": ".py",
   "mimetype": "text/x-python",
   "name": "python",
   "nbconvert_exporter": "python",
   "pygments_lexer": "ipython3",
   "version": "3.7.4"
  }
 },
 "nbformat": 4,
 "nbformat_minor": 1
}
